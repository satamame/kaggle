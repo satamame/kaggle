{
 "cells": [
  {
   "cell_type": "markdown",
   "metadata": {
    "colab_type": "text",
    "id": "eswyB3cEd8LL"
   },
   "source": [
    "# Dogs vs. Cats を CNN で解く"
   ]
  },
  {
   "cell_type": "markdown",
   "metadata": {
    "colab_type": "text",
    "id": "XIF6WcU_bUBo"
   },
   "source": [
    "## Drive をマウント\n",
    "(Google Colab でやる場合)"
   ]
  },
  {
   "cell_type": "code",
   "execution_count": null,
   "metadata": {
    "colab": {
     "base_uri": "https://localhost:8080/",
     "height": 55
    },
    "colab_type": "code",
    "executionInfo": {
     "elapsed": 671,
     "status": "ok",
     "timestamp": 1548756308936,
     "user": {
      "displayName": "sata mame",
      "photoUrl": "https://lh5.googleusercontent.com/-Q77leiY5kK0/AAAAAAAAAAI/AAAAAAAAACI/jdazeMe_Iak/s64/photo.jpg",
      "userId": "12972078330208712076"
     },
     "user_tz": -540
    },
    "id": "ge7Gdz--a7QR",
    "outputId": "a49769a4-9396-4d37-cc5c-1e11177228b9"
   },
   "outputs": [],
   "source": [
    "from google.colab import drive\n",
    "drive.mount('/content/gdrive')"
   ]
  },
  {
   "cell_type": "markdown",
   "metadata": {
    "colab_type": "text",
    "id": "NdowJXC4eU7k"
   },
   "source": [
    "## パッケージ群のインストール"
   ]
  },
  {
   "cell_type": "code",
   "execution_count": null,
   "metadata": {
    "colab": {},
    "colab_type": "code",
    "id": "Jfk8zGVwnG8c"
   },
   "outputs": [],
   "source": [
    "import tensorflow\n",
    "from tensorflow import keras\n",
    "%matplotlib inline\n",
    "import matplotlib.pyplot as plt"
   ]
  },
  {
   "cell_type": "code",
   "execution_count": null,
   "metadata": {
    "colab": {},
    "colab_type": "code",
    "id": "XuBH4kLkf91_"
   },
   "outputs": [],
   "source": [
    "# TensorFlow経由でデバイス設定の確認が可能です.\n",
    "# from tensorflow.python.client import device_lib\n",
    "# device_lib.list_local_devices()"
   ]
  },
  {
   "cell_type": "code",
   "execution_count": null,
   "metadata": {
    "colab": {},
    "colab_type": "code",
    "id": "8Rkr5gSior5_"
   },
   "outputs": [],
   "source": [
    "import os, cv2, random\n",
    "import numpy as np\n",
    "import pandas as pd\n",
    "from matplotlib import ticker\n",
    "import seaborn as sns"
   ]
  },
  {
   "cell_type": "markdown",
   "metadata": {
    "colab_type": "text",
    "id": "8gIhm3HWBn82"
   },
   "source": [
    "## ファイル一覧の取得"
   ]
  },
  {
   "cell_type": "code",
   "execution_count": null,
   "metadata": {
    "colab": {},
    "colab_type": "code",
    "id": "vJPBFudO8VC9"
   },
   "outputs": [],
   "source": [
    "# Google Colab でやる場合\n",
    "TRAIN_DIR = './gdrive/My Drive/colab/kaggle_dogs_cats/train/'\n",
    "TEST_DIR = './gdrive/My Drive/colab/kaggle_dogs_cats/test/'\n",
    "\n",
    "# ローカルでやる場合\n",
    "# TRAIN_DIR = 'train/'\n",
    "# TEST_DIR = 'test/'"
   ]
  },
  {
   "cell_type": "code",
   "execution_count": null,
   "metadata": {
    "colab": {
     "base_uri": "https://localhost:8080/",
     "height": 54
    },
    "colab_type": "code",
    "executionInfo": {
     "elapsed": 1253,
     "status": "ok",
     "timestamp": 1548756309525,
     "user": {
      "displayName": "sata mame",
      "photoUrl": "https://lh5.googleusercontent.com/-Q77leiY5kK0/AAAAAAAAAAI/AAAAAAAAACI/jdazeMe_Iak/s64/photo.jpg",
      "userId": "12972078330208712076"
     },
     "user_tz": -540
    },
    "id": "0WunKhxetg79",
    "outputId": "ea59fe5f-1ed4-4261-a241-2051ff48a15c"
   },
   "outputs": [],
   "source": [
    "# エラーが出ないこと (マウントが完了していること) を確認する.\n",
    "print(len(os.listdir(TRAIN_DIR)))\n",
    "print(len(os.listdir(TEST_DIR)))"
   ]
  },
  {
   "cell_type": "code",
   "execution_count": null,
   "metadata": {
    "colab": {},
    "colab_type": "code",
    "id": "TmHlfJnQesPO"
   },
   "outputs": [],
   "source": [
    "# 訓練用データ (全部、犬だけ、猫だけ)\n",
    "train_images = [TRAIN_DIR + i for i in os.listdir(TRAIN_DIR)] # use this for full dataset\n",
    "train_dogs =   [TRAIN_DIR + i for i in os.listdir(TRAIN_DIR) if 'dog' in i]\n",
    "train_cats =   [TRAIN_DIR + i for i in os.listdir(TRAIN_DIR) if 'cat' in i]\n",
    "\n",
    "# 評価用データ\n",
    "test_images =  [TEST_DIR+i for i in os.listdir(TEST_DIR)]"
   ]
  },
  {
   "cell_type": "code",
   "execution_count": null,
   "metadata": {
    "colab": {},
    "colab_type": "code",
    "id": "lobFdxxMfD53"
   },
   "outputs": [],
   "source": [
    "# 手っ取り早く試すために、データを減らす (犬と猫 1000個ずつ).\n",
    "train_images = train_dogs[:1000] + train_cats[:1000]\n",
    "random.shuffle(train_images)\n",
    "\n",
    "# 評価用データを 25個に減らす.\n",
    "test_images = test_images[:25]"
   ]
  },
  {
   "cell_type": "markdown",
   "metadata": {
    "colab_type": "text",
    "id": "7v4_LTOUfLJS"
   },
   "source": [
    "## 画像を配列に格納"
   ]
  },
  {
   "cell_type": "code",
   "execution_count": null,
   "metadata": {
    "colab": {},
    "colab_type": "code",
    "id": "Sh8b3BKafOa4"
   },
   "outputs": [],
   "source": [
    "ROWS = 64\n",
    "COLS = 64\n",
    "CHANNELS = 3"
   ]
  },
  {
   "cell_type": "code",
   "execution_count": null,
   "metadata": {
    "colab": {},
    "colab_type": "code",
    "id": "7XIRWc-SfTXW"
   },
   "outputs": [],
   "source": [
    "def read_image(file_path):\n",
    "    \"\"\"\n",
    "    画像をファイルから読み込んで、ROWS * COLS にリサイズして返す.\n",
    "    \"\"\"\n",
    "    img = cv2.imread(file_path, cv2.IMREAD_COLOR) # モノクロの場合は cv2.IMREAD_GRAYSCALE\n",
    "    return cv2.resize(img, (ROWS, COLS), interpolation=cv2.INTER_CUBIC)"
   ]
  },
  {
   "cell_type": "code",
   "execution_count": null,
   "metadata": {
    "colab": {},
    "colab_type": "code",
    "id": "8bxGSSLFfkv3"
   },
   "outputs": [],
   "source": [
    "def prep_data(image_files):\n",
    "    \"\"\"\n",
    "    画像のファイル名のリストを受け取って、画像を数値化した多次元配列を返す.\n",
    "    \"\"\"\n",
    "    count = len(image_files)\n",
    "    data = np.ndarray((count, CHANNELS, ROWS, COLS), dtype=np.uint8)\n",
    "\n",
    "    for i, image_file in enumerate(image_files):\n",
    "        image = read_image(image_file) # COLS * ROWS * CHANNELS\n",
    "        data[i] = image.T # Transpose (転置) -> CHANNELS * ROWS * COLS\n",
    "        if i % 250 == 0: print('Processed {} of {}'.format(i, count))\n",
    "    \n",
    "    return data"
   ]
  },
  {
   "cell_type": "code",
   "execution_count": null,
   "metadata": {
    "colab": {
     "base_uri": "https://localhost:8080/",
     "height": 181
    },
    "colab_type": "code",
    "executionInfo": {
     "elapsed": 27124,
     "status": "ok",
     "timestamp": 1548756335405,
     "user": {
      "displayName": "sata mame",
      "photoUrl": "https://lh5.googleusercontent.com/-Q77leiY5kK0/AAAAAAAAAAI/AAAAAAAAACI/jdazeMe_Iak/s64/photo.jpg",
      "userId": "12972078330208712076"
     },
     "user_tz": -540
    },
    "id": "XZdxVRUNf56A",
    "outputId": "b1ed22cb-1cbd-428b-b94a-e0a2c5d94366"
   },
   "outputs": [],
   "source": [
    "# 画像を配列に格納 (時間がかかります).\n",
    "train = prep_data(train_images)\n",
    "test = prep_data(test_images)"
   ]
  },
  {
   "cell_type": "code",
   "execution_count": null,
   "metadata": {
    "colab": {
     "base_uri": "https://localhost:8080/",
     "height": 54
    },
    "colab_type": "code",
    "executionInfo": {
     "elapsed": 27127,
     "status": "ok",
     "timestamp": 1548756335408,
     "user": {
      "displayName": "sata mame",
      "photoUrl": "https://lh5.googleusercontent.com/-Q77leiY5kK0/AAAAAAAAAAI/AAAAAAAAACI/jdazeMe_Iak/s64/photo.jpg",
      "userId": "12972078330208712076"
     },
     "user_tz": -540
    },
    "id": "q9Q36udQgFi6",
    "outputId": "4a488d71-8fcf-4839-d756-bfa090694a74"
   },
   "outputs": [],
   "source": [
    "print(train.shape)\n",
    "print(test.shape)"
   ]
  },
  {
   "cell_type": "markdown",
   "metadata": {
    "colab_type": "text",
    "id": "EUi4WFgA3zIq"
   },
   "source": [
    "## ラベル (正解) データをリストに格納する"
   ]
  },
  {
   "cell_type": "code",
   "execution_count": null,
   "metadata": {
    "colab": {},
    "colab_type": "code",
    "id": "EZVfW_TV3yUB"
   },
   "outputs": [],
   "source": [
    "labels = []\n",
    "for i in train_images:\n",
    "    if 'dog.' in i: # 単純に 'dog' とすると、フォルダ名がマッチするため.\n",
    "        labels.append(1) # 犬なら 1.\n",
    "    else:\n",
    "        labels.append(0) # 猫なら 0."
   ]
  },
  {
   "cell_type": "code",
   "execution_count": null,
   "metadata": {
    "colab": {
     "base_uri": "https://localhost:8080/",
     "height": 217
    },
    "colab_type": "code",
    "executionInfo": {
     "elapsed": 27131,
     "status": "ok",
     "timestamp": 1548756335415,
     "user": {
      "displayName": "sata mame",
      "photoUrl": "https://lh5.googleusercontent.com/-Q77leiY5kK0/AAAAAAAAAAI/AAAAAAAAACI/jdazeMe_Iak/s64/photo.jpg",
      "userId": "12972078330208712076"
     },
     "user_tz": -540
    },
    "id": "-x7nwmn-5p9j",
    "outputId": "880eb5d5-5a19-4761-c41b-e622b6ac79a9"
   },
   "outputs": [],
   "source": [
    "# 正しくラベルがついたか確認.\n",
    "import pprint\n",
    "print(labels[:10])\n",
    "pprint.pprint(train_images[:10])"
   ]
  },
  {
   "cell_type": "code",
   "execution_count": null,
   "metadata": {
    "colab": {
     "base_uri": "https://localhost:8080/",
     "height": 355
    },
    "colab_type": "code",
    "executionInfo": {
     "elapsed": 27608,
     "status": "ok",
     "timestamp": 1548756335894,
     "user": {
      "displayName": "sata mame",
      "photoUrl": "https://lh5.googleusercontent.com/-Q77leiY5kK0/AAAAAAAAAAI/AAAAAAAAACI/jdazeMe_Iak/s64/photo.jpg",
      "userId": "12972078330208712076"
     },
     "user_tz": -540
    },
    "id": "doYuKNq24ldA",
    "outputId": "3a5f59c1-34d7-4cf8-b60d-261a243458b7"
   },
   "outputs": [],
   "source": [
    "# 各ラベルの個数をグラフで確認.\n",
    "sns.countplot(labels)\n",
    "plt.title('Cats and Dogs')"
   ]
  },
  {
   "cell_type": "markdown",
   "metadata": {
    "colab_type": "text",
    "id": "QAZpIN7RaoxL"
   },
   "source": [
    "## 画像データの確認"
   ]
  },
  {
   "cell_type": "code",
   "execution_count": null,
   "metadata": {
    "colab": {},
    "colab_type": "code",
    "id": "6z2b2XxO6TnR"
   },
   "outputs": [],
   "source": [
    "def show_cats_and_dogs(idx):\n",
    "    \"\"\"\n",
    "    idx 番目の猫と、idx 番目の犬を、並べて表示する.\n",
    "    \"\"\"\n",
    "    cat = read_image(train_cats[idx])\n",
    "    dog = read_image(train_dogs[idx])\n",
    "\n",
    "    pair = np.concatenate((cat, dog), axis=1)\n",
    "    # Cols * Rows * Channels を結合するので、列方向に追加され、横長の画像になる.\n",
    "\n",
    "    plt.figure(figsize=(10, 5))\n",
    "    plt.imshow(pair)\n",
    "    plt.show()"
   ]
  },
  {
   "cell_type": "code",
   "execution_count": null,
   "metadata": {
    "colab": {
     "base_uri": "https://localhost:8080/",
     "height": 1545
    },
    "colab_type": "code",
    "executionInfo": {
     "elapsed": 29241,
     "status": "ok",
     "timestamp": 1548756337530,
     "user": {
      "displayName": "sata mame",
      "photoUrl": "https://lh5.googleusercontent.com/-Q77leiY5kK0/AAAAAAAAAAI/AAAAAAAAACI/jdazeMe_Iak/s64/photo.jpg",
      "userId": "12972078330208712076"
     },
     "user_tz": -540
    },
    "id": "naFyrebQae2a",
    "outputId": "a9c9966c-8995-4aca-dc85-47cac1451e43"
   },
   "outputs": [],
   "source": [
    "for idx in range(0, 5):\n",
    "  show_cats_and_dogs(idx)"
   ]
  },
  {
   "cell_type": "markdown",
   "metadata": {
    "colab_type": "text",
    "id": "sVI9Kw1KfMN9"
   },
   "source": [
    "## ピクセル値を平均した画像を生成する"
   ]
  },
  {
   "cell_type": "code",
   "execution_count": null,
   "metadata": {
    "colab": {
     "base_uri": "https://localhost:8080/",
     "height": 298
    },
    "colab_type": "code",
    "executionInfo": {
     "elapsed": 29548,
     "status": "ok",
     "timestamp": 1548756337839,
     "user": {
      "displayName": "sata mame",
      "photoUrl": "https://lh5.googleusercontent.com/-Q77leiY5kK0/AAAAAAAAAAI/AAAAAAAAACI/jdazeMe_Iak/s64/photo.jpg",
      "userId": "12972078330208712076"
     },
     "user_tz": -540
    },
    "id": "r6Jigl_vdlX8",
    "outputId": "438cd058-272f-433d-91d9-9e3fdf2346fe"
   },
   "outputs": [],
   "source": [
    "dog_avg = np.array([dog[0].T for i, dog in enumerate(train) if labels[i]==1]).mean(axis=0)\n",
    "# 0 番目のチャンネルだけを使っている？\n",
    "\n",
    "plt.imshow(dog_avg)\n",
    "plt.title('Your Average Dog')"
   ]
  },
  {
   "cell_type": "code",
   "execution_count": null,
   "metadata": {
    "colab": {
     "base_uri": "https://localhost:8080/",
     "height": 298
    },
    "colab_type": "code",
    "executionInfo": {
     "elapsed": 29786,
     "status": "ok",
     "timestamp": 1548756338078,
     "user": {
      "displayName": "sata mame",
      "photoUrl": "https://lh5.googleusercontent.com/-Q77leiY5kK0/AAAAAAAAAAI/AAAAAAAAACI/jdazeMe_Iak/s64/photo.jpg",
      "userId": "12972078330208712076"
     },
     "user_tz": -540
    },
    "id": "hgviAhwNhyWl",
    "outputId": "d69c864e-2c36-467b-bcff-6c3e01329cd5"
   },
   "outputs": [],
   "source": [
    "cat_avg = np.array([cat[0].T for i, cat in enumerate(train) if labels[i]==0]).mean(axis=0)\n",
    "plt.imshow(cat_avg)\n",
    "plt.title('Your Average Cat')"
   ]
  },
  {
   "cell_type": "markdown",
   "metadata": {
    "colab_type": "text",
    "id": "wHJsXFQokxRv"
   },
   "source": [
    "## モデル (CatdogNet-16) の定義"
   ]
  },
  {
   "cell_type": "code",
   "execution_count": null,
   "metadata": {
    "colab": {},
    "colab_type": "code",
    "id": "eeRAefOgkwju"
   },
   "outputs": [],
   "source": [
    "from keras.models import Sequential\n",
    "from keras.layers import Input, Dropout, Flatten, Conv2D, MaxPooling2D, Dense, Activation\n",
    "from keras.optimizers import RMSprop\n",
    "from keras.callbacks import ModelCheckpoint, Callback, EarlyStopping\n",
    "from keras.utils import np_utils"
   ]
  },
  {
   "cell_type": "code",
   "execution_count": null,
   "metadata": {
    "colab": {},
    "colab_type": "code",
    "id": "blF7MQdWl11O"
   },
   "outputs": [],
   "source": [
    "optimizer = RMSprop(lr=1e-4) # lr = learning rate\n",
    "objective = 'binary_crossentropy' # 二値分類なので."
   ]
  },
  {
   "cell_type": "code",
   "execution_count": null,
   "metadata": {
    "colab": {},
    "colab_type": "code",
    "id": "KrR6ef4mnpiH"
   },
   "outputs": [],
   "source": [
    "def catdog():\n",
    "    \"\"\"\n",
    "    モデルを作って返す.\n",
    "    \"\"\"\n",
    "    model = Sequential()\n",
    "    \n",
    "    model.add(Conv2D(32, (3, 3), input_shape=(CHANNELS, ROWS, COLS), activation='relu', padding='same'))\n",
    "    model.add(Conv2D(32, (3, 3), activation='relu', padding='same'))\n",
    "    model.add(MaxPooling2D(pool_size=(2, 2)))\n",
    "    \n",
    "    model.add(Conv2D(64, (3, 3), activation='relu', padding='same'))\n",
    "    model.add(Conv2D(64, (3, 3), activation='relu', padding='same'))\n",
    "    model.add(MaxPooling2D(data_format='channels_first', pool_size=(2, 2)))\n",
    "    \n",
    "    model.add(Conv2D(128, (3, 3), activation='relu', padding='same'))\n",
    "    model.add(Conv2D(128, (3, 3), activation='relu', padding='same'))\n",
    "    model.add(MaxPooling2D(data_format='channels_first', pool_size=(2, 2)))\n",
    "    \n",
    "    model.add(Conv2D(256, (3, 3), activation='relu', padding='same'))\n",
    "    model.add(Conv2D(256, (3, 3), activation='relu', padding='same'))\n",
    "    # model.add(Conv2D(256, 3, 3, activation='relu', padding='same'))\n",
    "    model.add(MaxPooling2D(data_format='channels_first', pool_size=(2, 2)))\n",
    "    \n",
    "    model.add(Flatten())\n",
    "    model.add(Dense(256, activation='relu'))\n",
    "    model.add(Dropout(0.5))\n",
    "    \n",
    "    model.add(Dense(256, activation='relu'))\n",
    "    model.add(Dropout(0.5))\n",
    "    \n",
    "    model.add(Dense(1))\n",
    "    model.add(Activation('sigmoid'))\n",
    "    \n",
    "    model.compile(loss=objective, optimizer=optimizer, metrics=['accuracy'])\n",
    "    return model"
   ]
  },
  {
   "cell_type": "code",
   "execution_count": null,
   "metadata": {
    "colab": {},
    "colab_type": "code",
    "id": "SAVnZK_TqsWI"
   },
   "outputs": [],
   "source": [
    "model = catdog()"
   ]
  },
  {
   "cell_type": "markdown",
   "metadata": {
    "colab_type": "text",
    "id": "oXfOYkHDHFRI"
   },
   "source": [
    "## トレーニングの実行"
   ]
  },
  {
   "cell_type": "code",
   "execution_count": null,
   "metadata": {
    "colab": {},
    "colab_type": "code",
    "id": "BH7QyxDtq53H"
   },
   "outputs": [],
   "source": [
    "epochs = 10\n",
    "batch_size = 16"
   ]
  },
  {
   "cell_type": "code",
   "execution_count": null,
   "metadata": {
    "colab": {},
    "colab_type": "code",
    "id": "WQEtsrl0HRb-"
   },
   "outputs": [],
   "source": [
    "## Callback for loss logging per epoch\n",
    "class LossHistory(Callback):\n",
    "    \"\"\"\n",
    "    途中の損失を記録しておくためのクラス\n",
    "    \"\"\"\n",
    "    def on_train_begin(self, logs={}):\n",
    "        \"\"\"\n",
    "        学習を開始する前に行う処理\n",
    "        \"\"\"\n",
    "        self.losses = []     # Loss の初期化\n",
    "        self.val_losses = [] # Validation の Loss の初期化\n",
    "        \n",
    "    def on_epoch_end(self, batch, logs={}):\n",
    "        \"\"\"\n",
    "        各 Epoch が終わった時に行う処理\n",
    "        \"\"\"\n",
    "        self.losses.append(logs.get('loss'))         # Epoch での Loss を全体の Loss に追加\n",
    "        self.val_losses.append(logs.get('val_loss')) # Epoch での Validation の Loss を全体のに追加"
   ]
  },
  {
   "cell_type": "code",
   "execution_count": null,
   "metadata": {
    "colab": {},
    "colab_type": "code",
    "id": "B9dATbSiJWHW"
   },
   "outputs": [],
   "source": [
    "# Validation Loss をモニタして、変化しなくなったら、トレーニングを停止する.\n",
    "early_stopping = EarlyStopping(monitor='val_loss', patience=3, verbose=1, mode='auto')"
   ]
  },
  {
   "cell_type": "code",
   "execution_count": null,
   "metadata": {
    "colab": {},
    "colab_type": "code",
    "id": "uJK9JBMgKCnb"
   },
   "outputs": [],
   "source": [
    "def run_catdog():\n",
    "    \n",
    "    history = LossHistory()\n",
    "    \n",
    "    # 学習してパラメタを設定する.\n",
    "    model.fit(train, labels, batch_size=batch_size, epochs=epochs,\n",
    "              validation_split=0.25, verbose=0, shuffle=True, callbacks=[history, early_stopping])\n",
    "    \n",
    "    # validation_split=0.25 : 75%のデータを学習に使って、25%のデータを Validation に使う.\n",
    "\n",
    "    # 学習したパラメタを使って予測をする.\n",
    "    predictions = model.predict(test, verbose=0)\n",
    "    return predictions, history"
   ]
  },
  {
   "cell_type": "code",
   "execution_count": null,
   "metadata": {
    "colab": {
     "base_uri": "https://localhost:8080/",
     "height": 35
    },
    "colab_type": "code",
    "executionInfo": {
     "elapsed": 55890,
     "status": "ok",
     "timestamp": 1548758377189,
     "user": {
      "displayName": "sata mame",
      "photoUrl": "https://lh5.googleusercontent.com/-Q77leiY5kK0/AAAAAAAAAAI/AAAAAAAAACI/jdazeMe_Iak/s64/photo.jpg",
      "userId": "12972078330208712076"
     },
     "user_tz": -540
    },
    "id": "-MWWASeKL1vy",
    "outputId": "e6222a39-15ef-4e9d-c160-bfee704c3c11"
   },
   "outputs": [],
   "source": [
    "predictions, history = run_catdog()"
   ]
  },
  {
   "cell_type": "code",
   "execution_count": null,
   "metadata": {
    "colab": {},
    "colab_type": "code",
    "id": "14aqKd3AOIeB"
   },
   "outputs": [],
   "source": [
    "loss = history.losses\n",
    "val_loss = history.val_losses"
   ]
  },
  {
   "cell_type": "code",
   "execution_count": null,
   "metadata": {
    "colab": {
     "base_uri": "https://localhost:8080/",
     "height": 295
    },
    "colab_type": "code",
    "executionInfo": {
     "elapsed": 629,
     "status": "ok",
     "timestamp": 1548759101144,
     "user": {
      "displayName": "sata mame",
      "photoUrl": "https://lh5.googleusercontent.com/-Q77leiY5kK0/AAAAAAAAAAI/AAAAAAAAACI/jdazeMe_Iak/s64/photo.jpg",
      "userId": "12972078330208712076"
     },
     "user_tz": -540
    },
    "id": "Sv2f-th6OQeV",
    "outputId": "8175b898-5d54-4f4e-d9bf-8973caf82aaf"
   },
   "outputs": [],
   "source": [
    "plt.xlabel('Epochs')\n",
    "plt.ylabel('Loss')\n",
    "plt.title('CatdogNet-16 Loss Trend')\n",
    "plt.plot(loss, 'blue', label='Training Loss')\n",
    "plt.plot(val_loss, 'green', label='Validation Loss')\n",
    "plt.xticks(range(0, epochs)[0::2])\n",
    "plt.legend()\n",
    "plt.show()"
   ]
  },
  {
   "cell_type": "markdown",
   "metadata": {
    "colab_type": "text",
    "id": "WmXv2jSOPerQ"
   },
   "source": [
    "## 推定結果の可視化"
   ]
  },
  {
   "cell_type": "code",
   "execution_count": null,
   "metadata": {
    "colab": {
     "base_uri": "https://localhost:8080/",
     "height": 2708
    },
    "colab_type": "code",
    "executionInfo": {
     "elapsed": 2564,
     "status": "ok",
     "timestamp": 1548759607912,
     "user": {
      "displayName": "sata mame",
      "photoUrl": "https://lh5.googleusercontent.com/-Q77leiY5kK0/AAAAAAAAAAI/AAAAAAAAACI/jdazeMe_Iak/s64/photo.jpg",
      "userId": "12972078330208712076"
     },
     "user_tz": -540
    },
    "id": "-G5EkKerPGvO",
    "outputId": "0540178b-099b-483f-c00b-5f532d478b73"
   },
   "outputs": [],
   "source": [
    "for i in range(0,10):\n",
    "    if predictions[i, 0] >= 0.5: \n",
    "        print('I am {:.2%} sure this is a Dog'.format(predictions[i][0]))\n",
    "    else: \n",
    "        print('I am {:.2%} sure this is a Cat'.format(1-predictions[i][0]))\n",
    "        \n",
    "    plt.imshow(test[i].T)\n",
    "    plt.show()"
   ]
  },
  {
   "cell_type": "code",
   "execution_count": null,
   "metadata": {
    "colab": {},
    "colab_type": "code",
    "id": "kbHfSwFBRB_w"
   },
   "outputs": [],
   "source": []
  }
 ],
 "metadata": {
  "accelerator": "TPU",
  "colab": {
   "collapsed_sections": [],
   "name": "dogs_cats_cnn.ipynb",
   "provenance": [],
   "toc_visible": true,
   "version": "0.3.2"
  },
  "kernelspec": {
   "display_name": "Python 3",
   "language": "python",
   "name": "python3"
  },
  "language_info": {
   "codemirror_mode": {
    "name": "ipython",
    "version": 3
   },
   "file_extension": ".py",
   "mimetype": "text/x-python",
   "name": "python",
   "nbconvert_exporter": "python",
   "pygments_lexer": "ipython3",
   "version": "3.6.5"
  }
 },
 "nbformat": 4,
 "nbformat_minor": 1
}
