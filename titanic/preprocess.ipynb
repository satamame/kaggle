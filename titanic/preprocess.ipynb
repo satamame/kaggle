{
 "cells": [
  {
   "cell_type": "code",
   "execution_count": null,
   "metadata": {},
   "outputs": [],
   "source": [
    "import pandas as pd\n",
    "import numpy as np\n",
    "from collections import Counter"
   ]
  },
  {
   "cell_type": "code",
   "execution_count": null,
   "metadata": {},
   "outputs": [],
   "source": [
    "# 読み込み\n",
    "train = pd.read_csv(\"train.csv\")\n",
    "test = pd.read_csv(\"test.csv\")"
   ]
  },
  {
   "cell_type": "code",
   "execution_count": null,
   "metadata": {},
   "outputs": [],
   "source": [
    "# 行と列の数\n",
    "print(train.shape)\n",
    "print(test.shape)"
   ]
  },
  {
   "cell_type": "code",
   "execution_count": null,
   "metadata": {},
   "outputs": [],
   "source": [
    "# 列名のリスト\n",
    "print(train.columns)\n",
    "print(test.columns)"
   ]
  },
  {
   "cell_type": "code",
   "execution_count": null,
   "metadata": {},
   "outputs": [],
   "source": [
    "# 基本統計量\n",
    "print(train.describe())\n",
    "print(test.describe())"
   ]
  },
  {
   "cell_type": "code",
   "execution_count": null,
   "metadata": {},
   "outputs": [],
   "source": [
    "# 欠損データ数\n",
    "print(train.isnull().sum())\n",
    "print(test.isnull().sum())"
   ]
  },
  {
   "cell_type": "code",
   "execution_count": null,
   "metadata": {},
   "outputs": [],
   "source": [
    "# Age の欠損値を、中央値で埋める\n",
    "trn_ag = train[\"Age\"]\n",
    "trn_ag_med = trn_ag[trn_ag.notnull()].median()\n",
    "tst_ag = test[\"Age\"]\n",
    "tst_ag_med = tst_ag[tst_ag.notnull()].median()\n",
    "print(trn_ag_med)\n",
    "print(tst_ag_med)\n",
    "train[\"Age\"] = trn_ag.fillna(trn_ag_med)\n",
    "test[\"Age\"] = tst_ag.fillna(tst_ag_med)"
   ]
  },
  {
   "cell_type": "code",
   "execution_count": null,
   "metadata": {},
   "outputs": [],
   "source": [
    "# Fare の欠損値を、中央値で埋める (test のみ)\n",
    "tst_fr = test[\"Fare\"]\n",
    "tst_fr_med = tst_fr[tst_fr.notnull()].median()\n",
    "print(tst_fr_med)\n",
    "test[\"Fare\"] = tst_fr.fillna(tst_fr_med)"
   ]
  },
  {
   "cell_type": "code",
   "execution_count": null,
   "metadata": {},
   "outputs": [],
   "source": [
    "# Embarked の欠損値を、最頻値で埋める\n",
    "trn_mb = train[\"Embarked\"]\n",
    "trn_mb_mc = Counter(trn_mb[trn_mb.notnull()]).most_common(1)[0][0]\n",
    "tst_mb = test[\"Embarked\"]\n",
    "tst_mb_mc = Counter(tst_mb[tst_mb.notnull()]).most_common(1)[0][0]\n",
    "print(trn_mb_mc)\n",
    "print(tst_mb_mc)\n",
    "train[\"Embarked\"] = trn_mb.fillna(trn_mb_mc)\n",
    "test[\"Embarked\"] = tst_mb.fillna(tst_mb_mc)"
   ]
  },
  {
   "cell_type": "code",
   "execution_count": null,
   "metadata": {},
   "outputs": [],
   "source": [
    "# 欠損データ数の再確認\n",
    "print(train.isnull().sum())\n",
    "print(test.isnull().sum())"
   ]
  },
  {
   "cell_type": "code",
   "execution_count": null,
   "metadata": {},
   "outputs": [],
   "source": [
    "# Sex を数値で表現する (male->0, female->1)\n",
    "train[\"Sex\"] = [0 if s == \"male\" else s for s in train[\"Sex\"]]\n",
    "train[\"Sex\"] = [1 if s == \"female\" else s for s in train[\"Sex\"]]\n",
    "test[\"Sex\"] = [0 if s == \"male\" else s for s in test[\"Sex\"]]\n",
    "test[\"Sex\"] = [1 if s == \"female\" else s for s in test[\"Sex\"]]"
   ]
  },
  {
   "cell_type": "code",
   "execution_count": null,
   "metadata": {},
   "outputs": [],
   "source": [
    "# Embarked を数値で表現する (S->0, C->1, Q->2)\n",
    "train[\"Embarked\"] = [0 if e == \"S\" else e for e in train[\"Embarked\"]]\n",
    "train[\"Embarked\"] = [1 if e == \"C\" else e for e in train[\"Embarked\"]]\n",
    "train[\"Embarked\"] = [2 if e == \"Q\" else e for e in train[\"Embarked\"]]\n",
    "test[\"Embarked\"] = [0 if e == \"S\" else e for e in test[\"Embarked\"]]\n",
    "test[\"Embarked\"] = [1 if e == \"C\" else e for e in test[\"Embarked\"]]\n",
    "test[\"Embarked\"] = [2 if e == \"Q\" else e for e in test[\"Embarked\"]]"
   ]
  },
  {
   "cell_type": "code",
   "execution_count": null,
   "metadata": {},
   "outputs": [],
   "source": []
  }
 ],
 "metadata": {
  "kernelspec": {
   "display_name": "Python 3",
   "language": "python",
   "name": "python3"
  },
  "language_info": {
   "codemirror_mode": {
    "name": "ipython",
    "version": 3
   },
   "file_extension": ".py",
   "mimetype": "text/x-python",
   "name": "python",
   "nbconvert_exporter": "python",
   "pygments_lexer": "ipython3",
   "version": "3.6.1"
  }
 },
 "nbformat": 4,
 "nbformat_minor": 2
}
